{
  "nbformat": 4,
  "nbformat_minor": 0,
  "metadata": {
    "colab": {
      "provenance": [],
      "authorship_tag": "ABX9TyNeh260lxuv7nyor/BYK0lp",
      "include_colab_link": true
    },
    "kernelspec": {
      "name": "python3",
      "display_name": "Python 3"
    },
    "language_info": {
      "name": "python"
    }
  },
  "cells": [
    {
      "cell_type": "markdown",
      "metadata": {
        "id": "view-in-github",
        "colab_type": "text"
      },
      "source": [
        "<a href=\"https://colab.research.google.com/github/yellapuvwnkatesh/Software-Engineering/blob/main/weather_modeling_.ipynb\" target=\"_parent\"><img src=\"https://colab.research.google.com/assets/colab-badge.svg\" alt=\"Open In Colab\"/></a>"
      ]
    },
    {
      "cell_type": "code",
      "execution_count": 5,
      "metadata": {
        "colab": {
          "base_uri": "https://localhost:8080/"
        },
        "id": "WDm_AOeOWgUZ",
        "outputId": "c6c8b4ad-7942-44a3-d0ac-80a124cba658"
      },
      "outputs": [
        {
          "output_type": "stream",
          "name": "stdout",
          "text": [
            "Enter the date (DD-MM-YYYY): 06-12-2023\n",
            "Date: 06-12-2023\n",
            "Temperature: 26°C, Wind Speed: 20 km/h, Humidity: 75%\n",
            "Calculated tw: 310.0\n",
            "Weather Condition: Cloudy\n"
          ]
        }
      ],
      "source": [
        "import pandas as pd\n",
        "from datetime import datetime\n",
        "\n",
        "# to calculate tw\n",
        "def calculate_tw(t, w, h):\n",
        "    tw = 0.5 * t**2 + 0.1 * w - 0.2 * h - 15\n",
        "    return tw\n",
        "\n",
        "# to classify weather based on tw\n",
        "def classify_weather(tw):\n",
        "    if tw > 350:\n",
        "        return \"Sunny\"\n",
        "    elif 250 < tw <= 350:\n",
        "        return \"Cloudy\"\n",
        "    elif 150 < tw <= 250:\n",
        "        return \"Rainy\"\n",
        "    else:\n",
        "        return \"Stormy\"\n",
        "\n",
        "# to calculate weather for a specific date\n",
        "def calculate_weather_for_date(file_path, date_str):\n",
        "    try:\n",
        "        # Read Excel file\n",
        "        df = pd.read_excel(file_path)\n",
        "\n",
        "        # Ensure the 'Date' column is in datetime format\n",
        "        df['Date'] = pd.to_datetime(df['Date'], format='%d-%m-%Y')\n",
        "\n",
        "        # Parse the user-provided date\n",
        "        user_date = datetime.strptime(date_str, '%d-%m-%Y')\n",
        "\n",
        "        # Find the row corresponding to the provided date\n",
        "        row = df[df['Date'] == user_date]\n",
        "\n",
        "        if row.empty:\n",
        "            print(f\"No data found for the date: {date_str}\")\n",
        "            return\n",
        "\n",
        "        # Extract data\n",
        "        temperature = row['T'].iloc[0]\n",
        "        wind_speed = row['W'].iloc[0]\n",
        "        humidity = row['H'].iloc[0]\n",
        "\n",
        "        # Calculate tw and classify weather\n",
        "        tw = calculate_tw(temperature, wind_speed, humidity)\n",
        "        condition = classify_weather(tw)\n",
        "\n",
        "        # Display results\n",
        "        print(f\"Date: {date_str}\")\n",
        "        print(f\"Temperature: {temperature}°C, Wind Speed: {wind_speed} km/h, Humidity: {humidity}%\")\n",
        "        print(f\"Calculated tw: {tw}\")\n",
        "        print(f\"Weather Condition: {condition}\")\n",
        "    except FileNotFoundError:\n",
        "        print(f\"File {file_path} not found.\")\n",
        "    except ValueError as e:\n",
        "        print(f\"Error processing the file: {e}\")\n",
        "\n",
        "# Main function\n",
        "def main():\n",
        "    file_path = 'weather.xlsx'  # Excel file name\n",
        "    date_str = input(\"Enter the date (DD-MM-YYYY): \")\n",
        "    calculate_weather_for_date(file_path, date_str)\n",
        "\n",
        "# runs only once\n",
        "if __name__ == \"__main__\":\n",
        "    main()\n"
      ]
    }
  ]
}