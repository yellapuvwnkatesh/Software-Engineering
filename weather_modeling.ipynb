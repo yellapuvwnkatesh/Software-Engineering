{
  "nbformat": 4,
  "nbformat_minor": 0,
  "metadata": {
    "colab": {
      "provenance": [],
      "authorship_tag": "ABX9TyM+2RnaNxL7bOGJqePSgJbb",
      "include_colab_link": true
    },
    "kernelspec": {
      "name": "python3",
      "display_name": "Python 3"
    },
    "language_info": {
      "name": "python"
    }
  },
  "cells": [
    {
      "cell_type": "markdown",
      "metadata": {
        "id": "view-in-github",
        "colab_type": "text"
      },
      "source": [
        "<a href=\"https://colab.research.google.com/github/yellapuvwnkatesh/Software-Engineering/blob/main/weather_modeling.ipynb\" target=\"_parent\"><img src=\"https://colab.research.google.com/assets/colab-badge.svg\" alt=\"Open In Colab\"/></a>"
      ]
    },
    {
      "cell_type": "code",
      "execution_count": null,
      "metadata": {
        "colab": {
          "base_uri": "https://localhost:8080/"
        },
        "id": "0QqMP2I9Vdkq",
        "outputId": "e2b6dbed-39a0-4bff-a6fd-1a4e650aca05"
      },
      "outputs": [
        {
          "output_type": "stream",
          "name": "stdout",
          "text": [
            "Roots: (2.0, 1.0)\n"
          ]
        }
      ],
      "source": [
        "# Quadratic Equation: ax^2 + bx + c = 0\n",
        "\n",
        "# Hard-coded coefficients\n",
        "a = 1  #a: Change in atmospheric pressure.\n",
        "b = -3 #b: Effect of temperature gradient.\n",
        "c = 2  #c: Constant offset from humidity or baseline data.\n",
        "\n",
        "# Quadratic formula: x = (-b ± √(b^2 - 4ac)) / 2a\n",
        "import math\n",
        "\n",
        "def solve_quadratic(a, b, c):\n",
        "    discriminant = b**2 - 4*a*c\n",
        "    if discriminant < 0:\n",
        "        return \"No real roots\"\n",
        "    root1 = (-b + math.sqrt(discriminant)) / (2 * a)\n",
        "    root2 = (-b - math.sqrt(discriminant)) / (2 * a)\n",
        "    return root1, root2\n",
        "\n",
        "roots = solve_quadratic(a, b, c)\n",
        "print(\"Roots:\", roots)\n"
      ]
    },
    {
      "cell_type": "code",
      "source": [
        "import pandas as pd\n",
        "from datetime import datetime\n",
        "\n",
        "# to calculate tw\n",
        "def calculate_tw(t, w, h):\n",
        "    tw = 0.5 * t**2 + 0.1 * w - 0.2 * h - 15\n",
        "    return tw\n",
        "\n",
        "# to classify weather based on tw\n",
        "def classify_weather(tw):\n",
        "    if tw > 350:\n",
        "        return \"Sunny\"\n",
        "    elif 250 < tw <= 350:\n",
        "        return \"Cloudy\"\n",
        "    elif 150 < tw <= 250:\n",
        "        return \"Rainy\"\n",
        "    else:\n",
        "        return \"Stormy\"\n",
        "\n",
        "# to calculate weather for a specific date\n",
        "def calculate_weather_for_date(file_path, date_str):\n",
        "    try:\n",
        "        # Read Excel file\n",
        "        df = pd.read_excel(file_path)\n",
        "\n",
        "        # Ensure the 'Date' column is in datetime format\n",
        "        df['Date'] = pd.to_datetime(df['Date'], format='%d-%m-%Y')\n",
        "\n",
        "        # Parse the user-provided date\n",
        "        user_date = datetime.strptime(date_str, '%d-%m-%Y')\n",
        "\n",
        "        # Find the row corresponding to the provided date\n",
        "        row = df[df['Date'] == user_date]\n",
        "\n",
        "        if row.empty:\n",
        "            print(f\"No data found for the date: {date_str}\")\n",
        "            return\n",
        "\n",
        "        # Extract data\n",
        "        temperature = row['T'].iloc[0]\n",
        "        wind_speed = row['W'].iloc[0]\n",
        "        humidity = row['H'].iloc[0]\n",
        "\n",
        "        # Calculate tw and classify weather\n",
        "        tw = calculate_tw(temperature, wind_speed, humidity)\n",
        "        condition = classify_weather(tw)\n",
        "\n",
        "        # Display results\n",
        "        print(f\"Date: {date_str}\")\n",
        "        print(f\"Temperature: {temperature}°C, Wind Speed: {wind_speed} km/h, Humidity: {humidity}%\")\n",
        "        print(f\"Calculated tw: {tw}\")\n",
        "        print(f\"Weather Condition: {condition}\")\n",
        "    except FileNotFoundError:\n",
        "        print(f\"File {file_path} not found.\")\n",
        "    except ValueError as e:\n",
        "        print(f\"Error processing the file: {e}\")\n",
        "\n",
        "# Main function\n",
        "def main():\n",
        "    file_path = 'weather.xlsx'  # Excel file name\n",
        "    date_str = input(\"Enter the date (DD-MM-YYYY): \")\n",
        "    calculate_weather_for_date(file_path, date_str)\n",
        "\n",
        "# runs only once\n",
        "if __name__ == \"__main__\":\n",
        "    main()\n"
      ],
      "metadata": {
        "colab": {
          "base_uri": "https://localhost:8080/"
        },
        "id": "uyzCPR0Kga7w",
        "outputId": "1927d649-cb4d-42f4-b643-1690a19a7213"
      },
      "execution_count": null,
      "outputs": [
        {
          "output_type": "stream",
          "name": "stdout",
          "text": [
            "Enter the date (DD-MM-YYYY): 06-12-2023\n",
            "Date: 06-12-2023\n",
            "Temperature: 26°C, Wind Speed: 20 km/h, Humidity: 75%\n",
            "Calculated tw: 310.0\n",
            "Weather Condition: Cloudy\n"
          ]
        }
      ]
    },
    {
      "cell_type": "code",
      "source": [
        "import pandas as pd\n",
        "\n",
        "# to calculate tw\n",
        "def calculate_tw(t, w, h):\n",
        "    tw = 0.5 * t**2 + 0.1 * w - 0.2 * h - 15\n",
        "    return tw\n",
        "\n",
        "# to classify weather based on tw\n",
        "def classify_weather(tw):\n",
        "    if tw > 350:\n",
        "        return \"Sunny\"\n",
        "    elif 250 < tw <= 350:\n",
        "        return \"Cloudy\"\n",
        "    elif 150 < tw <= 250:\n",
        "        return \"Rainy\"\n",
        "    else:\n",
        "        return \"Stormy\"\n",
        "\n",
        "# to calculate weather based on given t, w, h\n",
        "def calculate_weather(t, w, h):\n",
        "    try:\n",
        "        # Calculate tw and classify weather\n",
        "        tw = calculate_tw(t, w, h)\n",
        "        condition = classify_weather(tw)\n",
        "\n",
        "        # Display results\n",
        "        print(f\"Temperature: {t}°C, Wind Speed: {w} km/h, Humidity: {h}%\")\n",
        "        print(f\"Calculated tw: {tw}\")\n",
        "        print(f\"Weather Condition: {condition}\")\n",
        "    except ValueError as e:\n",
        "        print(f\"Error processing the values: {e}\")\n",
        "\n",
        "# Main function\n",
        "def main():\n",
        "    try:\n",
        "        t = float(input(\"Enter the temperature (°C): \"))\n",
        "        w = float(input(\"Enter the wind speed (km/h): \"))\n",
        "        h = float(input(\"Enter the humidity (%): \"))\n",
        "        calculate_weather(t, w, h)\n",
        "    except ValueError:\n",
        "        print(\"Please enter valid numeric inputs for temperature, wind speed, and humidity.\")\n",
        "\n",
        "# runs only once\n",
        "if __name__ == \"__main__\":\n",
        "    main()\n"
      ],
      "metadata": {
        "colab": {
          "base_uri": "https://localhost:8080/"
        },
        "id": "d3w4CvprcmQf",
        "outputId": "eba5dda5-ee26-4db1-ee7f-7b61b8f7769d"
      },
      "execution_count": 3,
      "outputs": [
        {
          "output_type": "stream",
          "name": "stdout",
          "text": [
            "Enter the temperature (°C): 27\n",
            "Enter the wind speed (km/h): 85\n",
            "Enter the humidity (%): 22\n",
            "Temperature: 27.0°C, Wind Speed: 85.0 km/h, Humidity: 22.0%\n",
            "Calculated tw: 353.6\n",
            "Weather Condition: Sunny\n"
          ]
        }
      ]
    }
  ]
}