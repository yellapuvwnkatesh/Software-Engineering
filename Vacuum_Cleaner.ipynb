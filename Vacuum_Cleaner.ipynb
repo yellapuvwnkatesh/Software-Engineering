{
  "nbformat": 4,
  "nbformat_minor": 0,
  "metadata": {
    "colab": {
      "provenance": [],
      "authorship_tag": "ABX9TyOUdx4g6ZjGDyRrBTsNJLZV",
      "include_colab_link": true
    },
    "kernelspec": {
      "name": "python3",
      "display_name": "Python 3"
    },
    "language_info": {
      "name": "python"
    }
  },
  "cells": [
    {
      "cell_type": "markdown",
      "metadata": {
        "id": "view-in-github",
        "colab_type": "text"
      },
      "source": [
        "<a href=\"https://colab.research.google.com/github/yellapuvwnkatesh/Software-Engineering/blob/main/Vacuum_Cleaner.ipynb\" target=\"_parent\"><img src=\"https://colab.research.google.com/assets/colab-badge.svg\" alt=\"Open In Colab\"/></a>"
      ]
    },
    {
      "cell_type": "code",
      "source": [
        "import random\n",
        "class Environment:\n",
        "    def __init__(self):\n",
        "        self.location = {\n",
        "            'A': random.randint(0, 1),\n",
        "            'B': random.randint(0, 1)\n",
        "        }\n",
        "class VacuumCleaner:\n",
        "    def __init__(self, env):\n",
        "        self.env = env\n",
        "        self.position = random.choice(['A', 'B'])\n",
        "        print(\"Vacuum cleaner placed at:\", self.position)\n",
        "        self.clean()\n",
        "    def clean(self):\n",
        "        while not all(value == 0 for value in self.env.location.values()):\n",
        "            print(\"Current location status:\", self.env.location)\n",
        "            if self.env.location[self.position] == 1:\n",
        "                print(f\"Cleaning {self.position}:\")\n",
        "                print(\"Sucking the dust...\")\n",
        "                self.env.location[self.position] = 0\n",
        "                print(f\"{self.position} is now clean.\")\n",
        "            else:\n",
        "                print(f\"{self.position} is already clean.\")\n",
        "            self.move()\n",
        "        print(\"All locations are clean:\", self.env.location)\n",
        "    def move(self):\n",
        "        if self.position == 'A':\n",
        "            print(\"Moving right to B...\")\n",
        "            self.position = 'B'\n",
        "        else:\n",
        "            print(\"Moving left to A...\")\n",
        "            self.position = 'A'\n",
        "        print(\"Moved to:\", self.position)\n",
        "environment = Environment()\n",
        "vacuum_cleaner = VacuumCleaner(environment)"
      ],
      "metadata": {
        "id": "WGQIFLLsagH2"
      },
      "execution_count": null,
      "outputs": []
    }
  ]
}