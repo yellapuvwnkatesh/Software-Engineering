{
  "nbformat": 4,
  "nbformat_minor": 0,
  "metadata": {
    "colab": {
      "provenance": [],
      "authorship_tag": "ABX9TyM161OavOHFkP1KHo/nV/9W",
      "include_colab_link": true
    },
    "kernelspec": {
      "name": "python3",
      "display_name": "Python 3"
    },
    "language_info": {
      "name": "python"
    }
  },
  "cells": [
    {
      "cell_type": "markdown",
      "metadata": {
        "id": "view-in-github",
        "colab_type": "text"
      },
      "source": [
        "<a href=\"https://colab.research.google.com/github/yellapuvwnkatesh/Software-Engineering/blob/main/weather(waterfall).ipynb\" target=\"_parent\"><img src=\"https://colab.research.google.com/assets/colab-badge.svg\" alt=\"Open In Colab\"/></a>"
      ]
    },
    {
      "cell_type": "code",
      "execution_count": null,
      "metadata": {
        "id": "UEJTprElSJHQ"
      },
      "outputs": [],
      "source": [
        "import numpy as np\n",
        "import matplotlib.pyplot as plt\n",
        "from sklearn.metrics import mean_squared_error\n",
        "\n",
        "# Step 1: Data Collection and Preprocessing\n",
        "def preprocess_data():\n",
        "    \"\"\"\n",
        "    Simulate historical weather data for testing.\n",
        "    \"\"\"\n",
        "    # Simulated data: x (time in days), y (temperature in °C)\n",
        "    x = np.array([1, 2, 3, 4, 5, 6, 7])\n",
        "    y = np.array([15, 18, 25, 30, 28, 20, 17])  # Example weather data (temperature)\n",
        "    return x, y\n",
        "\n",
        "# Step 2: Solving the Quadratic Equation (Equation Fitting)\n",
        "def fit_quadratic(x, y):\n",
        "    \"\"\"\n",
        "    Fit a quadratic model to the data.\n",
        "    y = ax^2 + bx + c\n",
        "    \"\"\"\n",
        "    coeffs = np.polyfit(x, y, 2)  # Fit polynomial of degree 2\n",
        "    return coeffs\n",
        "\n",
        "# Step 3: Prediction Function\n",
        "def predict(coeffs, x_values):\n",
        "    \"\"\"\n",
        "    Predict y-values using the quadratic model.\n",
        "    \"\"\"\n",
        "    a, b, c = coeffs\n",
        "    return a * x_values**2 + b * x_values + c\n",
        "\n",
        "# Step 4: Visualization and Validation\n",
        "def plot_results(x, y, x_pred, y_pred):\n",
        "    \"\"\"\n",
        "    Plot actual data and predicted quadratic curve.\n",
        "    \"\"\"\n",
        "    plt.scatter(x, y, color='blue', label='Actual Data')\n",
        "    plt.plot(x_pred, y_pred, color='red', label='Predicted Curve')\n",
        "    plt.xlabel('Time (Days)')\n",
        "    plt.ylabel('Temperature (°C)')\n",
        "    plt.title('Weather Modeling with Quadratic Equation')\n",
        "    plt.legend()\n",
        "    plt.show()\n",
        "\n",
        "# Main Program\n",
        "if __name__ == \"__main__\":\n",
        "    # Data Preprocessing\n",
        "    x, y = preprocess_data()\n",
        "\n",
        "    # Fit the Quadratic Equation\n",
        "    coeffs = fit_quadratic(x, y)\n",
        "    print(f\"Fitted Quadratic Coefficients: a={coeffs[0]:.2f}, b={coeffs[1]:.2f}, c={coeffs[2]:.2f}\")\n",
        "\n",
        "    # Predictions\n",
        "    x_pred = np.linspace(min(x), max(x), 100)  # Generate x-values for prediction\n",
        "    y_pred = predict(coeffs, x_pred)\n",
        "\n",
        "    # Plot Results\n",
        "    plot_results(x, y, x_pred, y_pred)\n",
        "\n",
        "    # Validation\n",
        "    y_fit = predict(coeffs, x)  # Predictions for actual x-values\n",
        "    mse = mean_squared_error(y, y_fit)\n",
        "    print(f\"Mean Squared Error of Model: {mse:.2f}\")\n"
      ]
    }
  ]
}